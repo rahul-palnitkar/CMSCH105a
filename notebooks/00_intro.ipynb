{
  "cells": [
    {
      "cell_type": "markdown",
      "id": "fce7707e",
      "metadata": {
        "id": "fce7707e"
      },
      "source": [
        "# Introduction to Bayesian Sampling\n",
        "\n",
        "This notebook is part of a tutorial on \"Practical Bayesian Modeling with PyMC\""
      ]
    },
    {
      "cell_type": "markdown",
      "id": "48c2f26e",
      "metadata": {
        "id": "48c2f26e"
      },
      "source": [
        "[Click here to run this notebook on Colab](https://colab.research.google.com/github/AllenDowney/SurveyDataPyMC/blob/main/notebooks/00_intro.ipynb)"
      ]
    },
    {
      "cell_type": "code",
      "execution_count": 1,
      "id": "fce89fc0",
      "metadata": {
        "id": "fce89fc0",
        "outputId": "53c4a492-6449-4a4d-92d0-4f65b21ed1fa",
        "colab": {
          "base_uri": "https://localhost:8080/"
        }
      },
      "outputs": [
        {
          "output_type": "stream",
          "name": "stdout",
          "text": [
            "Downloaded utils.py\n"
          ]
        }
      ],
      "source": [
        "# Get utils.py\n",
        "\n",
        "from os.path import basename, exists\n",
        "\n",
        "\n",
        "def download(url):\n",
        "    filename = basename(url)\n",
        "    if not exists(filename):\n",
        "        from urllib.request import urlretrieve\n",
        "\n",
        "        local, _ = urlretrieve(url, filename)\n",
        "        print(\"Downloaded \" + local)\n",
        "\n",
        "\n",
        "download(\"https://github.com/AllenDowney/SurveyDataPyMC/raw/main/notebooks/utils.py\")"
      ]
    },
    {
      "cell_type": "code",
      "execution_count": 2,
      "id": "f24d9f87",
      "metadata": {
        "id": "f24d9f87"
      },
      "outputs": [],
      "source": [
        "import matplotlib.pyplot as plt\n",
        "import numpy as np\n",
        "import pandas as pd\n",
        "import pymc as pm\n",
        "import arviz as az\n",
        "\n",
        "from utils import value_counts, decorate, plot_prior"
      ]
    },
    {
      "cell_type": "code",
      "execution_count": 3,
      "id": "860f08d5",
      "metadata": {
        "id": "860f08d5"
      },
      "outputs": [],
      "source": [
        "# Make the figures smaller to save some screen real estate\n",
        "plt.rcParams[\"figure.dpi\"] = 75\n",
        "plt.rcParams[\"figure.figsize\"] = [6, 3.5]\n",
        "plt.rcParams[\"axes.titlelocation\"] = \"left\""
      ]
    },
    {
      "cell_type": "markdown",
      "id": "a6a9405e",
      "metadata": {
        "id": "a6a9405e"
      },
      "source": [
        "## PyMC is a RNG\n",
        "\n",
        "Suppose we ask 1000 people to flip a coin and report the result.\n",
        "In this case, we know the probability is 0.5, and we can generate a synthetic sample like this."
      ]
    },
    {
      "cell_type": "code",
      "execution_count": 8,
      "id": "43eb6e01",
      "metadata": {
        "id": "43eb6e01"
      },
      "outputs": [],
      "source": [
        "# Fill this in\n",
        "\n",
        "with pm.Model() as model:\n",
        "    p = 0.5\n",
        "    y = pm.Bernoulli(\"y\", p=p) #y is both the object inside the model and the python variable"
      ]
    },
    {
      "cell_type": "code",
      "execution_count": 9,
      "id": "3550be83",
      "metadata": {
        "id": "3550be83"
      },
      "outputs": [],
      "source": [
        "# generate random sample from the prior distribution\n",
        "with model:\n",
        "    idata = pm.sample_prior_predictive(draws=1000)\n"
      ]
    },
    {
      "cell_type": "code",
      "execution_count": 14,
      "id": "29062a7f",
      "metadata": {
        "id": "29062a7f",
        "outputId": "ff1d48f5-5a72-4e4d-d89f-86a197306de5",
        "colab": {
          "base_uri": "https://localhost:8080/",
          "height": 179
        }
      },
      "outputs": [
        {
          "output_type": "execute_result",
          "data": {
            "text/plain": [
              "<xarray.DataArray 'y' ()> Size: 8B\n",
              "array(0.507)"
            ],
            "text/html": [
              "<div><svg style=\"position: absolute; width: 0; height: 0; overflow: hidden\">\n",
              "<defs>\n",
              "<symbol id=\"icon-database\" viewBox=\"0 0 32 32\">\n",
              "<path d=\"M16 0c-8.837 0-16 2.239-16 5v4c0 2.761 7.163 5 16 5s16-2.239 16-5v-4c0-2.761-7.163-5-16-5z\"></path>\n",
              "<path d=\"M16 17c-8.837 0-16-2.239-16-5v6c0 2.761 7.163 5 16 5s16-2.239 16-5v-6c0 2.761-7.163 5-16 5z\"></path>\n",
              "<path d=\"M16 26c-8.837 0-16-2.239-16-5v6c0 2.761 7.163 5 16 5s16-2.239 16-5v-6c0 2.761-7.163 5-16 5z\"></path>\n",
              "</symbol>\n",
              "<symbol id=\"icon-file-text2\" viewBox=\"0 0 32 32\">\n",
              "<path d=\"M28.681 7.159c-0.694-0.947-1.662-2.053-2.724-3.116s-2.169-2.030-3.116-2.724c-1.612-1.182-2.393-1.319-2.841-1.319h-15.5c-1.378 0-2.5 1.121-2.5 2.5v27c0 1.378 1.122 2.5 2.5 2.5h23c1.378 0 2.5-1.122 2.5-2.5v-19.5c0-0.448-0.137-1.23-1.319-2.841zM24.543 5.457c0.959 0.959 1.712 1.825 2.268 2.543h-4.811v-4.811c0.718 0.556 1.584 1.309 2.543 2.268zM28 29.5c0 0.271-0.229 0.5-0.5 0.5h-23c-0.271 0-0.5-0.229-0.5-0.5v-27c0-0.271 0.229-0.5 0.5-0.5 0 0 15.499-0 15.5 0v7c0 0.552 0.448 1 1 1h7v19.5z\"></path>\n",
              "<path d=\"M23 26h-14c-0.552 0-1-0.448-1-1s0.448-1 1-1h14c0.552 0 1 0.448 1 1s-0.448 1-1 1z\"></path>\n",
              "<path d=\"M23 22h-14c-0.552 0-1-0.448-1-1s0.448-1 1-1h14c0.552 0 1 0.448 1 1s-0.448 1-1 1z\"></path>\n",
              "<path d=\"M23 18h-14c-0.552 0-1-0.448-1-1s0.448-1 1-1h14c0.552 0 1 0.448 1 1s-0.448 1-1 1z\"></path>\n",
              "</symbol>\n",
              "</defs>\n",
              "</svg>\n",
              "<style>/* CSS stylesheet for displaying xarray objects in jupyterlab.\n",
              " *\n",
              " */\n",
              "\n",
              ":root {\n",
              "  --xr-font-color0: var(--jp-content-font-color0, rgba(0, 0, 0, 1));\n",
              "  --xr-font-color2: var(--jp-content-font-color2, rgba(0, 0, 0, 0.54));\n",
              "  --xr-font-color3: var(--jp-content-font-color3, rgba(0, 0, 0, 0.38));\n",
              "  --xr-border-color: var(--jp-border-color2, #e0e0e0);\n",
              "  --xr-disabled-color: var(--jp-layout-color3, #bdbdbd);\n",
              "  --xr-background-color: var(--jp-layout-color0, white);\n",
              "  --xr-background-color-row-even: var(--jp-layout-color1, white);\n",
              "  --xr-background-color-row-odd: var(--jp-layout-color2, #eeeeee);\n",
              "}\n",
              "\n",
              "html[theme=\"dark\"],\n",
              "html[data-theme=\"dark\"],\n",
              "body[data-theme=\"dark\"],\n",
              "body.vscode-dark {\n",
              "  --xr-font-color0: rgba(255, 255, 255, 1);\n",
              "  --xr-font-color2: rgba(255, 255, 255, 0.54);\n",
              "  --xr-font-color3: rgba(255, 255, 255, 0.38);\n",
              "  --xr-border-color: #1f1f1f;\n",
              "  --xr-disabled-color: #515151;\n",
              "  --xr-background-color: #111111;\n",
              "  --xr-background-color-row-even: #111111;\n",
              "  --xr-background-color-row-odd: #313131;\n",
              "}\n",
              "\n",
              ".xr-wrap {\n",
              "  display: block !important;\n",
              "  min-width: 300px;\n",
              "  max-width: 700px;\n",
              "}\n",
              "\n",
              ".xr-text-repr-fallback {\n",
              "  /* fallback to plain text repr when CSS is not injected (untrusted notebook) */\n",
              "  display: none;\n",
              "}\n",
              "\n",
              ".xr-header {\n",
              "  padding-top: 6px;\n",
              "  padding-bottom: 6px;\n",
              "  margin-bottom: 4px;\n",
              "  border-bottom: solid 1px var(--xr-border-color);\n",
              "}\n",
              "\n",
              ".xr-header > div,\n",
              ".xr-header > ul {\n",
              "  display: inline;\n",
              "  margin-top: 0;\n",
              "  margin-bottom: 0;\n",
              "}\n",
              "\n",
              ".xr-obj-type,\n",
              ".xr-array-name {\n",
              "  margin-left: 2px;\n",
              "  margin-right: 10px;\n",
              "}\n",
              "\n",
              ".xr-obj-type {\n",
              "  color: var(--xr-font-color2);\n",
              "}\n",
              "\n",
              ".xr-sections {\n",
              "  padding-left: 0 !important;\n",
              "  display: grid;\n",
              "  grid-template-columns: 150px auto auto 1fr 0 20px 0 20px;\n",
              "}\n",
              "\n",
              ".xr-section-item {\n",
              "  display: contents;\n",
              "}\n",
              "\n",
              ".xr-section-item input {\n",
              "  display: inline-block;\n",
              "  opacity: 0;\n",
              "  height: 0;\n",
              "}\n",
              "\n",
              ".xr-section-item input + label {\n",
              "  color: var(--xr-disabled-color);\n",
              "}\n",
              "\n",
              ".xr-section-item input:enabled + label {\n",
              "  cursor: pointer;\n",
              "  color: var(--xr-font-color2);\n",
              "}\n",
              "\n",
              ".xr-section-item input:focus + label {\n",
              "  border: 2px solid var(--xr-font-color0);\n",
              "}\n",
              "\n",
              ".xr-section-item input:enabled + label:hover {\n",
              "  color: var(--xr-font-color0);\n",
              "}\n",
              "\n",
              ".xr-section-summary {\n",
              "  grid-column: 1;\n",
              "  color: var(--xr-font-color2);\n",
              "  font-weight: 500;\n",
              "}\n",
              "\n",
              ".xr-section-summary > span {\n",
              "  display: inline-block;\n",
              "  padding-left: 0.5em;\n",
              "}\n",
              "\n",
              ".xr-section-summary-in:disabled + label {\n",
              "  color: var(--xr-font-color2);\n",
              "}\n",
              "\n",
              ".xr-section-summary-in + label:before {\n",
              "  display: inline-block;\n",
              "  content: \"►\";\n",
              "  font-size: 11px;\n",
              "  width: 15px;\n",
              "  text-align: center;\n",
              "}\n",
              "\n",
              ".xr-section-summary-in:disabled + label:before {\n",
              "  color: var(--xr-disabled-color);\n",
              "}\n",
              "\n",
              ".xr-section-summary-in:checked + label:before {\n",
              "  content: \"▼\";\n",
              "}\n",
              "\n",
              ".xr-section-summary-in:checked + label > span {\n",
              "  display: none;\n",
              "}\n",
              "\n",
              ".xr-section-summary,\n",
              ".xr-section-inline-details {\n",
              "  padding-top: 4px;\n",
              "  padding-bottom: 4px;\n",
              "}\n",
              "\n",
              ".xr-section-inline-details {\n",
              "  grid-column: 2 / -1;\n",
              "}\n",
              "\n",
              ".xr-section-details {\n",
              "  display: none;\n",
              "  grid-column: 1 / -1;\n",
              "  margin-bottom: 5px;\n",
              "}\n",
              "\n",
              ".xr-section-summary-in:checked ~ .xr-section-details {\n",
              "  display: contents;\n",
              "}\n",
              "\n",
              ".xr-array-wrap {\n",
              "  grid-column: 1 / -1;\n",
              "  display: grid;\n",
              "  grid-template-columns: 20px auto;\n",
              "}\n",
              "\n",
              ".xr-array-wrap > label {\n",
              "  grid-column: 1;\n",
              "  vertical-align: top;\n",
              "}\n",
              "\n",
              ".xr-preview {\n",
              "  color: var(--xr-font-color3);\n",
              "}\n",
              "\n",
              ".xr-array-preview,\n",
              ".xr-array-data {\n",
              "  padding: 0 5px !important;\n",
              "  grid-column: 2;\n",
              "}\n",
              "\n",
              ".xr-array-data,\n",
              ".xr-array-in:checked ~ .xr-array-preview {\n",
              "  display: none;\n",
              "}\n",
              "\n",
              ".xr-array-in:checked ~ .xr-array-data,\n",
              ".xr-array-preview {\n",
              "  display: inline-block;\n",
              "}\n",
              "\n",
              ".xr-dim-list {\n",
              "  display: inline-block !important;\n",
              "  list-style: none;\n",
              "  padding: 0 !important;\n",
              "  margin: 0;\n",
              "}\n",
              "\n",
              ".xr-dim-list li {\n",
              "  display: inline-block;\n",
              "  padding: 0;\n",
              "  margin: 0;\n",
              "}\n",
              "\n",
              ".xr-dim-list:before {\n",
              "  content: \"(\";\n",
              "}\n",
              "\n",
              ".xr-dim-list:after {\n",
              "  content: \")\";\n",
              "}\n",
              "\n",
              ".xr-dim-list li:not(:last-child):after {\n",
              "  content: \",\";\n",
              "  padding-right: 5px;\n",
              "}\n",
              "\n",
              ".xr-has-index {\n",
              "  font-weight: bold;\n",
              "}\n",
              "\n",
              ".xr-var-list,\n",
              ".xr-var-item {\n",
              "  display: contents;\n",
              "}\n",
              "\n",
              ".xr-var-item > div,\n",
              ".xr-var-item label,\n",
              ".xr-var-item > .xr-var-name span {\n",
              "  background-color: var(--xr-background-color-row-even);\n",
              "  margin-bottom: 0;\n",
              "}\n",
              "\n",
              ".xr-var-item > .xr-var-name:hover span {\n",
              "  padding-right: 5px;\n",
              "}\n",
              "\n",
              ".xr-var-list > li:nth-child(odd) > div,\n",
              ".xr-var-list > li:nth-child(odd) > label,\n",
              ".xr-var-list > li:nth-child(odd) > .xr-var-name span {\n",
              "  background-color: var(--xr-background-color-row-odd);\n",
              "}\n",
              "\n",
              ".xr-var-name {\n",
              "  grid-column: 1;\n",
              "}\n",
              "\n",
              ".xr-var-dims {\n",
              "  grid-column: 2;\n",
              "}\n",
              "\n",
              ".xr-var-dtype {\n",
              "  grid-column: 3;\n",
              "  text-align: right;\n",
              "  color: var(--xr-font-color2);\n",
              "}\n",
              "\n",
              ".xr-var-preview {\n",
              "  grid-column: 4;\n",
              "}\n",
              "\n",
              ".xr-index-preview {\n",
              "  grid-column: 2 / 5;\n",
              "  color: var(--xr-font-color2);\n",
              "}\n",
              "\n",
              ".xr-var-name,\n",
              ".xr-var-dims,\n",
              ".xr-var-dtype,\n",
              ".xr-preview,\n",
              ".xr-attrs dt {\n",
              "  white-space: nowrap;\n",
              "  overflow: hidden;\n",
              "  text-overflow: ellipsis;\n",
              "  padding-right: 10px;\n",
              "}\n",
              "\n",
              ".xr-var-name:hover,\n",
              ".xr-var-dims:hover,\n",
              ".xr-var-dtype:hover,\n",
              ".xr-attrs dt:hover {\n",
              "  overflow: visible;\n",
              "  width: auto;\n",
              "  z-index: 1;\n",
              "}\n",
              "\n",
              ".xr-var-attrs,\n",
              ".xr-var-data,\n",
              ".xr-index-data {\n",
              "  display: none;\n",
              "  background-color: var(--xr-background-color) !important;\n",
              "  padding-bottom: 5px !important;\n",
              "}\n",
              "\n",
              ".xr-var-attrs-in:checked ~ .xr-var-attrs,\n",
              ".xr-var-data-in:checked ~ .xr-var-data,\n",
              ".xr-index-data-in:checked ~ .xr-index-data {\n",
              "  display: block;\n",
              "}\n",
              "\n",
              ".xr-var-data > table {\n",
              "  float: right;\n",
              "}\n",
              "\n",
              ".xr-var-name span,\n",
              ".xr-var-data,\n",
              ".xr-index-name div,\n",
              ".xr-index-data,\n",
              ".xr-attrs {\n",
              "  padding-left: 25px !important;\n",
              "}\n",
              "\n",
              ".xr-attrs,\n",
              ".xr-var-attrs,\n",
              ".xr-var-data,\n",
              ".xr-index-data {\n",
              "  grid-column: 1 / -1;\n",
              "}\n",
              "\n",
              "dl.xr-attrs {\n",
              "  padding: 0;\n",
              "  margin: 0;\n",
              "  display: grid;\n",
              "  grid-template-columns: 125px auto;\n",
              "}\n",
              "\n",
              ".xr-attrs dt,\n",
              ".xr-attrs dd {\n",
              "  padding: 0;\n",
              "  margin: 0;\n",
              "  float: left;\n",
              "  padding-right: 10px;\n",
              "  width: auto;\n",
              "}\n",
              "\n",
              ".xr-attrs dt {\n",
              "  font-weight: normal;\n",
              "  grid-column: 1;\n",
              "}\n",
              "\n",
              ".xr-attrs dt:hover span {\n",
              "  display: inline-block;\n",
              "  background: var(--xr-background-color);\n",
              "  padding-right: 10px;\n",
              "}\n",
              "\n",
              ".xr-attrs dd {\n",
              "  grid-column: 2;\n",
              "  white-space: pre-wrap;\n",
              "  word-break: break-all;\n",
              "}\n",
              "\n",
              ".xr-icon-database,\n",
              ".xr-icon-file-text2,\n",
              ".xr-no-icon {\n",
              "  display: inline-block;\n",
              "  vertical-align: middle;\n",
              "  width: 1em;\n",
              "  height: 1.5em !important;\n",
              "  stroke-width: 0;\n",
              "  stroke: currentColor;\n",
              "  fill: currentColor;\n",
              "}\n",
              "</style><pre class='xr-text-repr-fallback'>&lt;xarray.DataArray &#x27;y&#x27; ()&gt; Size: 8B\n",
              "array(0.507)</pre><div class='xr-wrap' style='display:none'><div class='xr-header'><div class='xr-obj-type'>xarray.DataArray</div><div class='xr-array-name'>'y'</div></div><ul class='xr-sections'><li class='xr-section-item'><div class='xr-array-wrap'><input id='section-39fa356a-abc8-45df-a075-b3a40e0b673f' class='xr-array-in' type='checkbox' checked><label for='section-39fa356a-abc8-45df-a075-b3a40e0b673f' title='Show/hide data repr'><svg class='icon xr-icon-database'><use xlink:href='#icon-database'></use></svg></label><div class='xr-array-preview xr-preview'><span>0.507</span></div><div class='xr-array-data'><pre>array(0.507)</pre></div></div></li><li class='xr-section-item'><input id='section-ae976baa-672b-4d17-935d-437d0431ed0c' class='xr-section-summary-in' type='checkbox' disabled ><label for='section-ae976baa-672b-4d17-935d-437d0431ed0c' class='xr-section-summary'  title='Expand/collapse section'>Coordinates: <span>(0)</span></label><div class='xr-section-inline-details'></div><div class='xr-section-details'><ul class='xr-var-list'></ul></div></li><li class='xr-section-item'><input id='section-9ab168fd-e6ec-44e7-b4a6-610065a3327c' class='xr-section-summary-in' type='checkbox' disabled ><label for='section-9ab168fd-e6ec-44e7-b4a6-610065a3327c' class='xr-section-summary'  title='Expand/collapse section'>Indexes: <span>(0)</span></label><div class='xr-section-inline-details'></div><div class='xr-section-details'><ul class='xr-var-list'></ul></div></li><li class='xr-section-item'><input id='section-471b8166-816d-41a7-bb5e-8e69dbee6de2' class='xr-section-summary-in' type='checkbox' disabled ><label for='section-471b8166-816d-41a7-bb5e-8e69dbee6de2' class='xr-section-summary'  title='Expand/collapse section'>Attributes: <span>(0)</span></label><div class='xr-section-inline-details'></div><div class='xr-section-details'><dl class='xr-attrs'></dl></div></li></ul></div></div>"
            ]
          },
          "metadata": {},
          "execution_count": 14
        }
      ],
      "source": [
        "idata.prior['y'].mean()"
      ]
    },
    {
      "cell_type": "markdown",
      "source": [],
      "metadata": {
        "id": "rehZkI_gGMWe"
      },
      "id": "rehZkI_gGMWe"
    },
    {
      "cell_type": "code",
      "execution_count": 16,
      "id": "c02d4571",
      "metadata": {
        "id": "c02d4571"
      },
      "outputs": [],
      "source": [
        "# save results\n",
        "y_data = idata.prior['y'].to_numpy()"
      ]
    },
    {
      "cell_type": "markdown",
      "id": "12ccf7a5",
      "metadata": {
        "id": "12ccf7a5"
      },
      "source": [
        "## Uncertain p\n",
        "\n",
        "Now suppose we ask 1000 people to answer a factual question.\n",
        "We imagine that some people are more likely than others to get it right, so we can let the probability of success vary."
      ]
    },
    {
      "cell_type": "code",
      "execution_count": 17,
      "id": "48f019a5",
      "metadata": {
        "id": "48f019a5"
      },
      "outputs": [],
      "source": [
        "# Modify this\n",
        "\n",
        "with pm.Model() as model:\n",
        "    # draw random value of p\n",
        "    p = pm.Normal(\"p\", 0.5, 0.1)\n",
        "    y = pm.Bernoulli(\"y\", p=p)"
      ]
    },
    {
      "cell_type": "code",
      "execution_count": 18,
      "id": "6dd1f023",
      "metadata": {
        "id": "6dd1f023"
      },
      "outputs": [],
      "source": [
        "with model:\n",
        "    idata = pm.sample_prior_predictive(draws=1000)"
      ]
    },
    {
      "cell_type": "code",
      "execution_count": 19,
      "id": "97083281",
      "metadata": {
        "id": "97083281",
        "outputId": "51b3c930-b87a-47af-8f96-bbda2f3a8534",
        "colab": {
          "base_uri": "https://localhost:8080/",
          "height": 311
        }
      },
      "outputs": [
        {
          "output_type": "display_data",
          "data": {
            "text/plain": [
              "<Figure size 1035x301.875 with 2 Axes>"
            ],
            "image/png": "[encoded data removed]"
          },
          "metadata": {}
        }
      ],
      "source": [
        "plot_prior(idata)\n",
        "decorate()"
      ]
    },
    {
      "cell_type": "markdown",
      "id": "5f8c2626",
      "metadata": {
        "id": "5f8c2626"
      },
      "source": [
        "## Latent propensity\n",
        "\n",
        "Now suppose we ask 1000 people if they are happy.\n",
        "We can imagine that each person has a latent happiness factor, which influences their tendency to say they are happy.\n",
        "\n",
        "Specifically, we'll assume the distribution of the factor is Normal, and use the sigmoid function (aka expit, aka inverse logit) to map from log odds to probability."
      ]
    },
    {
      "cell_type": "code",
      "execution_count": null,
      "id": "5cb381c1",
      "metadata": {
        "id": "5cb381c1"
      },
      "outputs": [],
      "source": [
        "# Modify this\n",
        "\n",
        "with pm.Model() as model:\n",
        "    p = pm.Normal(\"p\", 0.5, 0.1)\n",
        "    y = pm.Bernoulli(\"y\", p=p)"
      ]
    },
    {
      "cell_type": "code",
      "execution_count": null,
      "id": "598046c1",
      "metadata": {
        "id": "598046c1"
      },
      "outputs": [],
      "source": [
        "with model:\n",
        "    idata = pm.sample_prior_predictive(draws=1000)"
      ]
    },
    {
      "cell_type": "code",
      "execution_count": null,
      "id": "531de0f0",
      "metadata": {
        "id": "531de0f0"
      },
      "outputs": [],
      "source": [
        "plot_prior(idata)\n",
        "decorate()"
      ]
    },
    {
      "cell_type": "markdown",
      "id": "3eaaa492",
      "metadata": {
        "id": "3eaaa492"
      },
      "source": [
        "Let's save the result from this model and suppose it's actual data we collected in a survey."
      ]
    },
    {
      "cell_type": "code",
      "execution_count": null,
      "id": "db4f1825",
      "metadata": {
        "id": "db4f1825"
      },
      "outputs": [],
      "source": [
        "y_data = idata.prior['y'].to_numpy()"
      ]
    },
    {
      "cell_type": "code",
      "execution_count": null,
      "id": "73ba4244",
      "metadata": {
        "id": "73ba4244"
      },
      "outputs": [],
      "source": [
        "from scipy.special import logit\n",
        "\n",
        "ref_val = logit(y_data.mean())\n",
        "ref_val"
      ]
    },
    {
      "cell_type": "markdown",
      "id": "0067218c",
      "metadata": {
        "id": "0067218c"
      },
      "source": [
        "## Observed data\n",
        "\n",
        "Now we'll use the same model, but now instead of generating `y`, we treat `y` as an observed variable.\n",
        "\n",
        "Instead of `sample_prior_predictive`, which uses known parameters of the model to generate data, we'll use `sample`, which uses the data to infer the parameters of the model."
      ]
    },
    {
      "cell_type": "code",
      "execution_count": null,
      "id": "fbd6fb2e",
      "metadata": {
        "id": "fbd6fb2e"
      },
      "outputs": [],
      "source": [
        "# Modify this\n",
        "\n",
        "with pm.Model() as model:\n",
        "    z = pm.Normal(\"z\", mu=0, sigma=1)\n",
        "    p = pm.math.sigmoid(z)\n",
        "    y = pm.Bernoulli(\"y\", p=p)"
      ]
    },
    {
      "cell_type": "code",
      "execution_count": null,
      "id": "5a1ad76f",
      "metadata": {
        "id": "5a1ad76f"
      },
      "outputs": [],
      "source": [
        "with model:\n",
        "    idata = pm.sample(draws=1000)"
      ]
    },
    {
      "cell_type": "markdown",
      "id": "4d3c045b",
      "metadata": {
        "id": "4d3c045b"
      },
      "source": [
        "Now the posterior distribution represents what we believe about the `z` after seeing the data."
      ]
    },
    {
      "cell_type": "code",
      "execution_count": null,
      "id": "7fb1c6e8",
      "metadata": {
        "id": "7fb1c6e8"
      },
      "outputs": [],
      "source": [
        "az.plot_posterior(idata, ref_val=ref_val)\n",
        "decorate()"
      ]
    }
  ],
  "metadata": {
    "kernelspec": {
      "display_name": "Python 3 (ipykernel)",
      "language": "python",
      "name": "python3"
    },
    "language_info": {
      "codemirror_mode": {
        "name": "ipython",
        "version": 3
      },
      "file_extension": ".py",
      "mimetype": "text/x-python",
      "name": "python",
      "nbconvert_exporter": "python",
      "pygments_lexer": "ipython3",
      "version": "3.12.9"
    },
    "colab": {
      "provenance": []
    }
  },
  "nbformat": 4,
  "nbformat_minor": 5
}